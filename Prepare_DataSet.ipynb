{
 "cells": [
  {
   "cell_type": "code",
   "execution_count": null,
   "metadata": {},
   "outputs": [],
   "source": [
    "#here i use the folder named dataset2 to make the dataset ready to use \n",
    "# each folder A(0-1-....9)name refer to the label of the image "
   ]
  },
  {
   "cell_type": "code",
   "execution_count": 8,
   "metadata": {},
   "outputs": [],
   "source": [
    "import os\n",
    "import numpy as np\n",
    "from PIL import Image\n",
    "from tensorflow.keras.utils import to_categorical"
   ]
  },
  {
   "cell_type": "code",
   "execution_count": 9,
   "metadata": {},
   "outputs": [
    {
     "name": "stdout",
     "output_type": "stream",
     "text": [
      "X Shape: (1712, 64, 64)\n",
      "Y Shape (One-hot): (1712, 10)\n"
     ]
    }
   ],
   "source": [
    "\n",
    "image_size = (64, 64)  # Resize to this shape\n",
    "data_dir = \"../SignLanguage/dataset2/train/\"\n",
    "save_dir=\"../SignLanguage/dataset\"\n",
    "\n",
    "os.makedirs(save_dir, exist_ok=True)\n",
    "\n",
    "x_data = []\n",
    "y_data = []\n",
    "\n",
    "# Iterate through class folders\n",
    "for class_folder in sorted(os.listdir(data_dir)):\n",
    "    class_path = os.path.join(data_dir, class_folder)\n",
    "    if os.path.isdir(class_path) and class_folder.startswith('A'):\n",
    "        class_label = int(class_folder[1:])  # Extract digit from folder name (A0 -> 0)\n",
    "        for file_name in os.listdir(class_path):\n",
    "            file_path = os.path.join(class_path, file_name)\n",
    "            try:\n",
    "                img = Image.open(file_path).convert('L')  \n",
    "                img = img.resize(image_size)\n",
    "                x_data.append(np.array(img))\n",
    "                y_data.append(class_label)\n",
    "            except Exception as e:\n",
    "                print(f\"Error processing {file_path}: {e}\")\n",
    "\n",
    "# Convert to NumPy arrays\n",
    "x_data = np.array(x_data)\n",
    "y_data = np.array(y_data)\n",
    "\n",
    "# One-hot encoding of labels\n",
    "y_data = to_categorical(y_data, num_classes=10)\n",
    "\n",
    "print(\"X Shape:\", x_data.shape)\n",
    "print(\"Y Shape (One-hot):\", y_data.shape)\n",
    "\n",
    "# Save the arrays for future use\n",
    "np.save(os.path.join(save_dir, \"X_train.npy\"), x_data)\n",
    "np.save(os.path.join(save_dir, \"y_train.npy\"), y_data)\n"
   ]
  },
  {
   "cell_type": "code",
   "execution_count": 10,
   "metadata": {},
   "outputs": [
    {
     "name": "stdout",
     "output_type": "stream",
     "text": [
      "X Shape: (50, 64, 64)\n",
      "Y Shape (One-hot): (50, 10)\n"
     ]
    }
   ],
   "source": [
    "\n",
    "# Configuration\n",
    "image_size = (64, 64)  # Resize to this shape\n",
    "data_dir = \"../SignLanguage/dataset2/test/\"\n",
    "save_dir=\"../SignLanguage/dataset\"\n",
    "x_data = []\n",
    "y_data = []\n",
    "\n",
    "# Iterate through class folders\n",
    "for class_folder in sorted(os.listdir(data_dir)):\n",
    "    class_path = os.path.join(data_dir, class_folder)\n",
    "    if os.path.isdir(class_path) and class_folder.startswith('A'):\n",
    "        class_label = int(class_folder[1:])  # Extract digit from folder name (A0 -> 0)\n",
    "        for file_name in os.listdir(class_path):\n",
    "            file_path = os.path.join(class_path, file_name)\n",
    "            try:\n",
    "                img = Image.open(file_path).convert('L')  \n",
    "                img = img.resize(image_size)\n",
    "                x_data.append(np.array(img))\n",
    "                y_data.append(class_label)\n",
    "            except Exception as e:\n",
    "                print(f\"Error processing {file_path}: {e}\")\n",
    "\n",
    "# Convert to NumPy arrays\n",
    "x_data = np.array(x_data)\n",
    "y_data = np.array(y_data)\n",
    "\n",
    "# One-hot encoding of labels\n",
    "y_data = to_categorical(y_data, num_classes=10)\n",
    "\n",
    "print(\"X Shape:\", x_data.shape)\n",
    "print(\"Y Shape (One-hot):\", y_data.shape)\n",
    "\n",
    "# Save the arrays for future use\n",
    "np.save(os.path.join(save_dir, \"X_test.npy\"), x_data)\n",
    "np.save(os.path.join(save_dir, \"y_test.npy\"), y_data)\n"
   ]
  },
  {
   "cell_type": "code",
   "execution_count": 14,
   "metadata": {},
   "outputs": [],
   "source": [
    "X_train=np.load('dataset/X_train.npy')\n",
    "y_train=np.load('dataset/y_train.npy')\n",
    "X_test=np.load('dataset/X_test.npy')\n",
    "y_test=np.load('dataset/y_test.npy')"
   ]
  },
  {
   "cell_type": "code",
   "execution_count": 16,
   "metadata": {},
   "outputs": [
    {
     "name": "stdout",
     "output_type": "stream",
     "text": [
      "Data successfully shuffled and saved!\n"
     ]
    }
   ],
   "source": [
    "\n",
    "# Shuffle training data\n",
    "shuffle_train = np.random.permutation(X_train.shape[0])\n",
    "X_train = X_train[shuffle_train]\n",
    "y_train = y_train[shuffle_train]\n",
    "\n",
    "# Shuffle test data\n",
    "shuffle_test = np.random.permutation(X_test.shape[0])\n",
    "X_test = X_test[shuffle_test]\n",
    "y_test = y_test[shuffle_test]\n",
    "\n",
    "\n",
    "\n",
    "# Save the shuffled data back in the same directory\n",
    "save_dir=\"../SignLanguage/dataset\"\n",
    "np.save(os.path.join(save_dir, \"X_train.npy\"), X_train)\n",
    "np.save(os.path.join(save_dir, \"y_train.npy\"), y_train)\n",
    "np.save(os.path.join(save_dir, \"X_test.npy\"), X_test)\n",
    "np.save(os.path.join(save_dir, \"y_test.npy\"), y_test)\n",
    "\n",
    "print(\"Data successfully shuffled and saved!\")\n"
   ]
  },
  {
   "cell_type": "code",
   "execution_count": null,
   "metadata": {},
   "outputs": [],
   "source": []
  }
 ],
 "metadata": {
  "kernelspec": {
   "display_name": "sign",
   "language": "python",
   "name": "python3"
  },
  "language_info": {
   "codemirror_mode": {
    "name": "ipython",
    "version": 3
   },
   "file_extension": ".py",
   "mimetype": "text/x-python",
   "name": "python",
   "nbconvert_exporter": "python",
   "pygments_lexer": "ipython3",
   "version": "3.12.6"
  }
 },
 "nbformat": 4,
 "nbformat_minor": 2
}
